{
 "cells": [
  {
   "cell_type": "markdown",
   "source": [
    "Today we will try to recognise digits in images using neural networks."
   ],
   "metadata": {
    "collapsed": false
   }
  },
  {
   "cell_type": "code",
   "execution_count": 33,
   "outputs": [],
   "source": [
    "# import libraries\n",
    "import torch\n",
    "import torchvision\n",
    "import numpy as np\n",
    "import random as rd"
   ],
   "metadata": {
    "collapsed": false
   }
  },
  {
   "cell_type": "code",
   "execution_count": 34,
   "outputs": [],
   "source": [
    "# Update hyperparameters for the model\n",
    "# Hyperparameters are values that you use to adjust the model parameters.\n",
    "\n",
    "# Number of epochs is the number of times you go over training data\n",
    "numEpochs = 3\n",
    "\n",
    "# batch size is the size of the chunk used each time for training (or testing)\n",
    "batch_size_train = 64\n",
    "batch_size_test = 64\n",
    "# The rate at which the neural network learns\n",
    "learning_rate = 0.01\n",
    "# momentum is the speedup in learning rate depending on the current learning velocity\n",
    "momentum = 0.5\n",
    "# After how many steps should we print outputs\n",
    "log_intervals = 10"
   ],
   "metadata": {
    "collapsed": false
   }
  },
  {
   "cell_type": "code",
   "execution_count": 35,
   "outputs": [],
   "source": [
    "random_seed = 1996\n",
    "torch.manual_seed(random_seed)\n",
    "np.random.seed(random_seed)\n",
    "rd.seed(random_seed)"
   ],
   "metadata": {
    "collapsed": false
   }
  },
  {
   "cell_type": "code",
   "execution_count": 36,
   "outputs": [],
   "source": [
    "# Load the datasets\n",
    "train_dataset = torchvision.datasets.MNIST('/files/', train=True, download=True,transform=torchvision.transforms.Compose([torchvision.transforms.ToTensor(),torchvision.transforms.Normalize((0.1307,), (0.3081,))]))\n",
    "\n",
    "test_dataset = torchvision.datasets.MNIST('/files/', train=False, download=True,transform=torchvision.transforms.Compose([torchvision.transforms.ToTensor(),torchvision.transforms.Normalize((0.1307,), (0.3081,))]))\n",
    "\n"
   ],
   "metadata": {
    "collapsed": false
   }
  },
  {
   "cell_type": "code",
   "execution_count": 37,
   "outputs": [],
   "source": [
    "# Load the datasets in a format that pytorch can use\n",
    "from torch.utils.data import DataLoader\n",
    "train_dataloader = DataLoader(train_dataset,batch_size=batch_size_train,shuffle=True)\n",
    "test_dataloader = DataLoader(test_dataset,batch_size=batch_size_test,shuffle=True)"
   ],
   "metadata": {
    "collapsed": false
   }
  },
  {
   "cell_type": "code",
   "execution_count": 38,
   "outputs": [],
   "source": [
    "examplesEnumerator = enumerate(test_dataloader)\n"
   ],
   "metadata": {
    "collapsed": false
   }
  },
  {
   "cell_type": "code",
   "execution_count": 39,
   "outputs": [
    {
     "name": "stdout",
     "output_type": "stream",
     "text": [
      "batch_id_for_example= 0\n",
      "exampleLabel= tensor([8, 5, 7, 5, 2, 7, 7, 9, 9, 2, 0, 1, 6, 0, 9, 7, 2, 6, 0, 3, 4, 8, 0, 6,\n",
      "        9, 7, 2, 5, 8, 6, 5, 3, 6, 4, 6, 9, 5, 3, 6, 7, 0, 2, 9, 9, 8, 2, 8, 0,\n",
      "        4, 6, 7, 7, 7, 6, 9, 8, 4, 2, 4, 3, 9, 1, 6, 2])\n",
      "exampleData.shape= torch.Size([64, 1, 28, 28])\n"
     ]
    }
   ],
   "source": [
    "batch_id_for_example, (exampleData,exampleLabel) = next(examplesEnumerator)\n",
    "\n",
    "print(\"batch_id_for_example=\",batch_id_for_example)\n",
    "print(\"exampleLabel=\",exampleLabel)\n",
    "print(\"exampleData.shape=\",exampleData.shape)"
   ],
   "metadata": {
    "collapsed": false
   }
  },
  {
   "cell_type": "code",
   "execution_count": 40,
   "outputs": [
    {
     "name": "stderr",
     "output_type": "stream",
     "text": [
      "C:\\Users\\yatin\\AppData\\Local\\Temp\\ipykernel_20856\\1788316080.py:14: UserWarning: Matplotlib is currently using module://matplotlib_inline.backend_inline, which is a non-GUI backend, so cannot show the figure.\n",
      "  fig.show()\n"
     ]
    },
    {
     "data": {
      "text/plain": "<Figure size 1500x600 with 10 Axes>",
      "image/png": "[encoded data removed]"
     },
     "metadata": {},
     "output_type": "display_data"
    }
   ],
   "source": [
    "import matplotlib.pyplot as plt\n",
    "\n",
    "fig = plt.figure(figsize=(15,6))\n",
    "\n",
    "for figureNumber in range(10):\n",
    "    plt.subplot(2,5,figureNumber+1)\n",
    "    plt.tight_layout()\n",
    "    plt.imshow(exampleData[figureNumber][0], cmap=\"gray\",interpolation='none')\n",
    "    plt.xticks([])\n",
    "    plt.yticks([])\n",
    "    plt.title(\"Ground Truth Labels = %d\"%exampleLabel[figureNumber])\n",
    "\n",
    "\n",
    "fig.show()\n",
    "\n"
   ],
   "metadata": {
    "collapsed": false
   }
  },
  {
   "cell_type": "code",
   "execution_count": 41,
   "outputs": [],
   "source": [
    "# import the libraries used for building the network\n",
    "import torch.nn as nn\n",
    "import torch.optim as optim\n",
    "import torch.nn.functional as F"
   ],
   "metadata": {
    "collapsed": false
   }
  },
  {
   "cell_type": "code",
   "execution_count": 42,
   "outputs": [],
   "source": [
    "class Net(nn.Module):\n",
    "    def __init__(self):\n",
    "        super(Net,self).__init__()\n",
    "        super(Net, self).__init__()\n",
    "        self.conv1 = nn.Conv2d(1,10,kernel_size=5)\n",
    "        self.conv2 = nn.Conv2d(10,20,kernel_size=5)\n",
    "        self.conv2_drop = nn.Dropout2d()\n",
    "        self.fc1 = nn.Linear(320,50)\n",
    "        self.fc2 = nn.Linear(50,10)\n",
    "\n",
    "    def forward(self, x):\n",
    "        # RELU = rectified linear unit\n",
    "        # maxpool = pools the information and gives the max\n",
    "        x = F.relu(F.max_pool2d(self.conv1(x), 2))\n",
    "        # x = F.relu(F.max_pool2d(self.conv2_drop(self.conv2(x)), 2))\n",
    "        x = F.relu(F.max_pool2d(self.conv2_drop(self.conv2(x)), 2))\n",
    "        x = x.view(-1, 320)\n",
    "        x = F.relu(self.fc1(x))\n",
    "        x = F.dropout(x, training=self.training)\n",
    "        x = self.fc2(x)\n",
    "        # softmax = outputs the maximum value, but does it within thresholds\n",
    "        return F.log_softmax(x)"
   ],
   "metadata": {
    "collapsed": false
   }
  },
  {
   "cell_type": "code",
   "execution_count": 43,
   "outputs": [],
   "source": [
    "# student = model\n",
    "network = Net()\n",
    "# teacher = optimizer\n",
    "# SGD = stochastic gradient descent\n",
    "optimizer = optim.SGD(network.parameters(), lr=learning_rate,momentum=momentum)"
   ],
   "metadata": {
    "collapsed": false
   }
  },
  {
   "cell_type": "code",
   "execution_count": 44,
   "outputs": [
    {
     "name": "stdout",
     "output_type": "stream",
     "text": [
      "len(train_dataloader.dataset)= 60000\n",
      "test_counter= [0, 60000, 120000, 180000]\n"
     ]
    }
   ],
   "source": [
    "# store the training values and errors\n",
    "train_losses = []\n",
    "train_counter = []\n",
    "test_losses = []\n",
    "print(\"len(train_dataloader.dataset)=\",len(train_dataloader.dataset))\n",
    "test_counter = [i*len(train_dataloader.dataset) for i in range(numEpochs+1)]\n",
    "print(\"test_counter=\",test_counter)"
   ],
   "metadata": {
    "collapsed": false
   }
  },
  {
   "cell_type": "code",
   "execution_count": 45,
   "outputs": [],
   "source": [
    "def train(epoch):\n",
    "    network.train()\n",
    "    for batch_idx, (data, target) in enumerate(train_dataloader):\n",
    "        optimizer.zero_grad()\n",
    "        output = network(data)\n",
    "        loss = F.nll_loss(output, target)\n",
    "        loss.backward()\n",
    "        optimizer.step()\n",
    "        if batch_idx % log_intervals == 0:\n",
    "            print('Train Epoch: {} [{}/{} ({:.0f}%)]\\tLoss: {:.6f}'.format(\n",
    "                epoch, batch_idx * len(data), len(train_dataloader.dataset),\n",
    "                       100. * batch_idx / len(train_dataloader), loss.item()))\n",
    "            train_losses.append(loss.item())\n",
    "            train_counter.append(\n",
    "                (batch_idx*64) + ((epoch-1)*len(train_dataloader.dataset)))\n",
    "            torch.save(network.state_dict(), 'results/model.pth')\n",
    "            torch.save(optimizer.state_dict(), 'results/optimizer.pth')"
   ],
   "metadata": {
    "collapsed": false
   }
  },
  {
   "cell_type": "code",
   "execution_count": 46,
   "outputs": [],
   "source": [
    "def test():\n",
    "    network.eval()\n",
    "    test_loss = 0\n",
    "    correct = 0\n",
    "    with torch.no_grad():\n",
    "        for data, target in test_dataloader:\n",
    "            output = network(data)\n",
    "            test_loss += F.nll_loss(output, target, size_average=False).item()\n",
    "            pred = output.data.max(1, keepdim=True)[1]\n",
    "            correct += pred.eq(target.data.view_as(pred)).sum()\n",
    "    test_loss /= len(test_dataloader.dataset)\n",
    "    test_losses.append(test_loss)\n",
    "    print('\\nTest set: Avg. loss: {:.4f}, Accuracy: {}/{} ({:.0f}%)\\n'.format(\n",
    "        test_loss, correct, len(test_dataloader.dataset),\n",
    "        100. * correct / len(test_dataloader.dataset)))"
   ],
   "metadata": {
    "collapsed": false
   }
  },
  {
   "cell_type": "code",
   "execution_count": 55,
   "outputs": [
    {
     "name": "stderr",
     "output_type": "stream",
     "text": [
      "C:\\Users\\yatin\\AppData\\Local\\Temp\\ipykernel_20856\\44468947.py:22: UserWarning: Implicit dimension choice for log_softmax has been deprecated. Change the call to include dim=X as an argument.\n",
      "  return F.log_softmax(x)\n",
      "C:\\Users\\yatin\\anaconda3\\envs\\myenv\\lib\\site-packages\\torch\\nn\\_reduction.py:42: UserWarning: size_average and reduce args will be deprecated, please use reduction='sum' instead.\n",
      "  warnings.warn(warning.format(ret))\n"
     ]
    },
    {
     "name": "stdout",
     "output_type": "stream",
     "text": [
      "\n",
      "Test set: Avg. loss: 0.1612, Accuracy: 9517/10000 (95%)\n",
      "\n",
      "Train Epoch: 1 [0/60000 (0%)]\tLoss: 0.369625\n",
      "Train Epoch: 1 [640/60000 (1%)]\tLoss: 0.441934\n",
      "Train Epoch: 1 [1280/60000 (2%)]\tLoss: 0.316221\n",
      "Train Epoch: 1 [1920/60000 (3%)]\tLoss: 0.289720\n",
      "Train Epoch: 1 [2560/60000 (4%)]\tLoss: 0.459198\n",
      "Train Epoch: 1 [3200/60000 (5%)]\tLoss: 0.379616\n",
      "Train Epoch: 1 [3840/60000 (6%)]\tLoss: 0.527991\n",
      "Train Epoch: 1 [4480/60000 (7%)]\tLoss: 0.309834\n",
      "Train Epoch: 1 [5120/60000 (9%)]\tLoss: 0.445890\n",
      "Train Epoch: 1 [5760/60000 (10%)]\tLoss: 0.547049\n",
      "Train Epoch: 1 [6400/60000 (11%)]\tLoss: 0.579563\n",
      "Train Epoch: 1 [7040/60000 (12%)]\tLoss: 0.243211\n",
      "Train Epoch: 1 [7680/60000 (13%)]\tLoss: 0.439703\n",
      "Train Epoch: 1 [8320/60000 (14%)]\tLoss: 0.355008\n",
      "Train Epoch: 1 [8960/60000 (15%)]\tLoss: 0.343631\n",
      "Train Epoch: 1 [9600/60000 (16%)]\tLoss: 0.330421\n",
      "Train Epoch: 1 [10240/60000 (17%)]\tLoss: 0.342643\n",
      "Train Epoch: 1 [10880/60000 (18%)]\tLoss: 0.258907\n",
      "Train Epoch: 1 [11520/60000 (19%)]\tLoss: 0.334868\n",
      "Train Epoch: 1 [12160/60000 (20%)]\tLoss: 0.486136\n",
      "Train Epoch: 1 [12800/60000 (21%)]\tLoss: 0.444482\n",
      "Train Epoch: 1 [13440/60000 (22%)]\tLoss: 0.286084\n",
      "Train Epoch: 1 [14080/60000 (23%)]\tLoss: 0.272913\n",
      "Train Epoch: 1 [14720/60000 (25%)]\tLoss: 0.445062\n",
      "Train Epoch: 1 [15360/60000 (26%)]\tLoss: 0.413726\n",
      "Train Epoch: 1 [16000/60000 (27%)]\tLoss: 0.222055\n",
      "Train Epoch: 1 [16640/60000 (28%)]\tLoss: 0.290717\n",
      "Train Epoch: 1 [17280/60000 (29%)]\tLoss: 0.447569\n",
      "Train Epoch: 1 [17920/60000 (30%)]\tLoss: 0.288916\n",
      "Train Epoch: 1 [18560/60000 (31%)]\tLoss: 0.460655\n",
      "Train Epoch: 1 [19200/60000 (32%)]\tLoss: 0.330673\n",
      "Train Epoch: 1 [19840/60000 (33%)]\tLoss: 0.425703\n",
      "Train Epoch: 1 [20480/60000 (34%)]\tLoss: 0.345316\n",
      "Train Epoch: 1 [21120/60000 (35%)]\tLoss: 0.157391\n",
      "Train Epoch: 1 [21760/60000 (36%)]\tLoss: 0.379829\n",
      "Train Epoch: 1 [22400/60000 (37%)]\tLoss: 0.295452\n",
      "Train Epoch: 1 [23040/60000 (38%)]\tLoss: 0.248371\n",
      "Train Epoch: 1 [23680/60000 (39%)]\tLoss: 0.257698\n",
      "Train Epoch: 1 [24320/60000 (41%)]\tLoss: 0.354695\n",
      "Train Epoch: 1 [24960/60000 (42%)]\tLoss: 0.358947\n",
      "Train Epoch: 1 [25600/60000 (43%)]\tLoss: 0.263567\n",
      "Train Epoch: 1 [26240/60000 (44%)]\tLoss: 0.671273\n",
      "Train Epoch: 1 [26880/60000 (45%)]\tLoss: 0.427006\n",
      "Train Epoch: 1 [27520/60000 (46%)]\tLoss: 0.346458\n",
      "Train Epoch: 1 [28160/60000 (47%)]\tLoss: 0.449342\n",
      "Train Epoch: 1 [28800/60000 (48%)]\tLoss: 0.302366\n",
      "Train Epoch: 1 [29440/60000 (49%)]\tLoss: 0.404508\n",
      "Train Epoch: 1 [30080/60000 (50%)]\tLoss: 0.266101\n",
      "Train Epoch: 1 [30720/60000 (51%)]\tLoss: 0.307000\n",
      "Train Epoch: 1 [31360/60000 (52%)]\tLoss: 0.413021\n",
      "Train Epoch: 1 [32000/60000 (53%)]\tLoss: 0.352376\n",
      "Train Epoch: 1 [32640/60000 (54%)]\tLoss: 0.200402\n",
      "Train Epoch: 1 [33280/60000 (55%)]\tLoss: 0.429658\n",
      "Train Epoch: 1 [33920/60000 (57%)]\tLoss: 0.354792\n",
      "Train Epoch: 1 [34560/60000 (58%)]\tLoss: 0.485659\n",
      "Train Epoch: 1 [35200/60000 (59%)]\tLoss: 0.324604\n",
      "Train Epoch: 1 [35840/60000 (60%)]\tLoss: 0.285377\n",
      "Train Epoch: 1 [36480/60000 (61%)]\tLoss: 0.291631\n",
      "Train Epoch: 1 [37120/60000 (62%)]\tLoss: 0.354328\n",
      "Train Epoch: 1 [37760/60000 (63%)]\tLoss: 0.287969\n",
      "Train Epoch: 1 [38400/60000 (64%)]\tLoss: 0.314746\n",
      "Train Epoch: 1 [39040/60000 (65%)]\tLoss: 0.348062\n",
      "Train Epoch: 1 [39680/60000 (66%)]\tLoss: 0.321751\n",
      "Train Epoch: 1 [40320/60000 (67%)]\tLoss: 0.222979\n",
      "Train Epoch: 1 [40960/60000 (68%)]\tLoss: 0.366533\n",
      "Train Epoch: 1 [41600/60000 (69%)]\tLoss: 0.340709\n",
      "Train Epoch: 1 [42240/60000 (70%)]\tLoss: 0.132755\n",
      "Train Epoch: 1 [42880/60000 (71%)]\tLoss: 0.178501\n",
      "Train Epoch: 1 [43520/60000 (72%)]\tLoss: 0.240830\n",
      "Train Epoch: 1 [44160/60000 (74%)]\tLoss: 0.272961\n",
      "Train Epoch: 1 [44800/60000 (75%)]\tLoss: 0.200786\n",
      "Train Epoch: 1 [45440/60000 (76%)]\tLoss: 0.290668\n",
      "Train Epoch: 1 [46080/60000 (77%)]\tLoss: 0.234060\n",
      "Train Epoch: 1 [46720/60000 (78%)]\tLoss: 0.432629\n",
      "Train Epoch: 1 [47360/60000 (79%)]\tLoss: 0.141697\n",
      "Train Epoch: 1 [48000/60000 (80%)]\tLoss: 0.414226\n",
      "Train Epoch: 1 [48640/60000 (81%)]\tLoss: 0.444942\n",
      "Train Epoch: 1 [49280/60000 (82%)]\tLoss: 0.405711\n",
      "Train Epoch: 1 [49920/60000 (83%)]\tLoss: 0.314808\n",
      "Train Epoch: 1 [50560/60000 (84%)]\tLoss: 0.200139\n",
      "Train Epoch: 1 [51200/60000 (85%)]\tLoss: 0.233843\n",
      "Train Epoch: 1 [51840/60000 (86%)]\tLoss: 0.322871\n",
      "Train Epoch: 1 [52480/60000 (87%)]\tLoss: 0.385305\n",
      "Train Epoch: 1 [53120/60000 (88%)]\tLoss: 0.451898\n",
      "Train Epoch: 1 [53760/60000 (90%)]\tLoss: 0.459997\n",
      "Train Epoch: 1 [54400/60000 (91%)]\tLoss: 0.271062\n",
      "Train Epoch: 1 [55040/60000 (92%)]\tLoss: 0.642891\n",
      "Train Epoch: 1 [55680/60000 (93%)]\tLoss: 0.573711\n",
      "Train Epoch: 1 [56320/60000 (94%)]\tLoss: 0.238362\n",
      "Train Epoch: 1 [56960/60000 (95%)]\tLoss: 0.272371\n",
      "Train Epoch: 1 [57600/60000 (96%)]\tLoss: 0.387972\n",
      "Train Epoch: 1 [58240/60000 (97%)]\tLoss: 0.205014\n",
      "Train Epoch: 1 [58880/60000 (98%)]\tLoss: 0.350414\n",
      "Train Epoch: 1 [59520/60000 (99%)]\tLoss: 0.713329\n",
      "\n",
      "Test set: Avg. loss: 0.1045, Accuracy: 9670/10000 (97%)\n",
      "\n",
      "Train Epoch: 2 [0/60000 (0%)]\tLoss: 0.342746\n",
      "Train Epoch: 2 [640/60000 (1%)]\tLoss: 0.185555\n",
      "Train Epoch: 2 [1280/60000 (2%)]\tLoss: 0.347802\n",
      "Train Epoch: 2 [1920/60000 (3%)]\tLoss: 0.220156\n",
      "Train Epoch: 2 [2560/60000 (4%)]\tLoss: 0.409848\n",
      "Train Epoch: 2 [3200/60000 (5%)]\tLoss: 0.234111\n",
      "Train Epoch: 2 [3840/60000 (6%)]\tLoss: 0.286454\n",
      "Train Epoch: 2 [4480/60000 (7%)]\tLoss: 0.176509\n",
      "Train Epoch: 2 [5120/60000 (9%)]\tLoss: 0.366017\n",
      "Train Epoch: 2 [5760/60000 (10%)]\tLoss: 0.383144\n",
      "Train Epoch: 2 [6400/60000 (11%)]\tLoss: 0.212125\n",
      "Train Epoch: 2 [7040/60000 (12%)]\tLoss: 0.389136\n",
      "Train Epoch: 2 [7680/60000 (13%)]\tLoss: 0.323000\n",
      "Train Epoch: 2 [8320/60000 (14%)]\tLoss: 0.173973\n",
      "Train Epoch: 2 [8960/60000 (15%)]\tLoss: 0.226671\n",
      "Train Epoch: 2 [9600/60000 (16%)]\tLoss: 0.488441\n",
      "Train Epoch: 2 [10240/60000 (17%)]\tLoss: 0.195891\n",
      "Train Epoch: 2 [10880/60000 (18%)]\tLoss: 0.274025\n",
      "Train Epoch: 2 [11520/60000 (19%)]\tLoss: 0.243791\n",
      "Train Epoch: 2 [12160/60000 (20%)]\tLoss: 0.405629\n",
      "Train Epoch: 2 [12800/60000 (21%)]\tLoss: 0.209697\n",
      "Train Epoch: 2 [13440/60000 (22%)]\tLoss: 0.287272\n",
      "Train Epoch: 2 [14080/60000 (23%)]\tLoss: 0.253015\n",
      "Train Epoch: 2 [14720/60000 (25%)]\tLoss: 0.419367\n",
      "Train Epoch: 2 [15360/60000 (26%)]\tLoss: 0.463143\n",
      "Train Epoch: 2 [16000/60000 (27%)]\tLoss: 0.324149\n",
      "Train Epoch: 2 [16640/60000 (28%)]\tLoss: 0.312438\n",
      "Train Epoch: 2 [17280/60000 (29%)]\tLoss: 0.357017\n",
      "Train Epoch: 2 [17920/60000 (30%)]\tLoss: 0.194207\n",
      "Train Epoch: 2 [18560/60000 (31%)]\tLoss: 0.248544\n",
      "Train Epoch: 2 [19200/60000 (32%)]\tLoss: 0.455264\n",
      "Train Epoch: 2 [19840/60000 (33%)]\tLoss: 0.186530\n",
      "Train Epoch: 2 [20480/60000 (34%)]\tLoss: 0.413780\n",
      "Train Epoch: 2 [21120/60000 (35%)]\tLoss: 0.418015\n",
      "Train Epoch: 2 [21760/60000 (36%)]\tLoss: 0.278022\n",
      "Train Epoch: 2 [22400/60000 (37%)]\tLoss: 0.331478\n",
      "Train Epoch: 2 [23040/60000 (38%)]\tLoss: 0.439957\n",
      "Train Epoch: 2 [23680/60000 (39%)]\tLoss: 0.307220\n",
      "Train Epoch: 2 [24320/60000 (41%)]\tLoss: 0.255610\n",
      "Train Epoch: 2 [24960/60000 (42%)]\tLoss: 0.160247\n",
      "Train Epoch: 2 [25600/60000 (43%)]\tLoss: 0.171238\n",
      "Train Epoch: 2 [26240/60000 (44%)]\tLoss: 0.259689\n",
      "Train Epoch: 2 [26880/60000 (45%)]\tLoss: 0.409968\n",
      "Train Epoch: 2 [27520/60000 (46%)]\tLoss: 0.387249\n",
      "Train Epoch: 2 [28160/60000 (47%)]\tLoss: 0.321211\n",
      "Train Epoch: 2 [28800/60000 (48%)]\tLoss: 0.535464\n",
      "Train Epoch: 2 [29440/60000 (49%)]\tLoss: 0.251144\n",
      "Train Epoch: 2 [30080/60000 (50%)]\tLoss: 0.214185\n",
      "Train Epoch: 2 [30720/60000 (51%)]\tLoss: 0.410769\n",
      "Train Epoch: 2 [31360/60000 (52%)]\tLoss: 0.274762\n",
      "Train Epoch: 2 [32000/60000 (53%)]\tLoss: 0.107552\n",
      "Train Epoch: 2 [32640/60000 (54%)]\tLoss: 0.244785\n",
      "Train Epoch: 2 [33280/60000 (55%)]\tLoss: 0.314729\n",
      "Train Epoch: 2 [33920/60000 (57%)]\tLoss: 0.184699\n",
      "Train Epoch: 2 [34560/60000 (58%)]\tLoss: 0.252241\n",
      "Train Epoch: 2 [35200/60000 (59%)]\tLoss: 0.252110\n",
      "Train Epoch: 2 [35840/60000 (60%)]\tLoss: 0.236750\n",
      "Train Epoch: 2 [36480/60000 (61%)]\tLoss: 0.194296\n",
      "Train Epoch: 2 [37120/60000 (62%)]\tLoss: 0.304198\n",
      "Train Epoch: 2 [37760/60000 (63%)]\tLoss: 0.199948\n",
      "Train Epoch: 2 [38400/60000 (64%)]\tLoss: 0.263414\n",
      "Train Epoch: 2 [39040/60000 (65%)]\tLoss: 0.256047\n",
      "Train Epoch: 2 [39680/60000 (66%)]\tLoss: 0.225222\n",
      "Train Epoch: 2 [40320/60000 (67%)]\tLoss: 0.155255\n",
      "Train Epoch: 2 [40960/60000 (68%)]\tLoss: 0.236657\n",
      "Train Epoch: 2 [41600/60000 (69%)]\tLoss: 0.364248\n",
      "Train Epoch: 2 [42240/60000 (70%)]\tLoss: 0.217346\n",
      "Train Epoch: 2 [42880/60000 (71%)]\tLoss: 0.277128\n",
      "Train Epoch: 2 [43520/60000 (72%)]\tLoss: 0.160786\n",
      "Train Epoch: 2 [44160/60000 (74%)]\tLoss: 0.299281\n",
      "Train Epoch: 2 [44800/60000 (75%)]\tLoss: 0.174955\n",
      "Train Epoch: 2 [45440/60000 (76%)]\tLoss: 0.182635\n",
      "Train Epoch: 2 [46080/60000 (77%)]\tLoss: 0.246057\n",
      "Train Epoch: 2 [46720/60000 (78%)]\tLoss: 0.260980\n",
      "Train Epoch: 2 [47360/60000 (79%)]\tLoss: 0.284303\n",
      "Train Epoch: 2 [48000/60000 (80%)]\tLoss: 0.190082\n",
      "Train Epoch: 2 [48640/60000 (81%)]\tLoss: 0.274998\n",
      "Train Epoch: 2 [49280/60000 (82%)]\tLoss: 0.300735\n",
      "Train Epoch: 2 [49920/60000 (83%)]\tLoss: 0.179948\n",
      "Train Epoch: 2 [50560/60000 (84%)]\tLoss: 0.197464\n",
      "Train Epoch: 2 [51200/60000 (85%)]\tLoss: 0.159115\n",
      "Train Epoch: 2 [51840/60000 (86%)]\tLoss: 0.187769\n",
      "Train Epoch: 2 [52480/60000 (87%)]\tLoss: 0.285044\n",
      "Train Epoch: 2 [53120/60000 (88%)]\tLoss: 0.297978\n",
      "Train Epoch: 2 [53760/60000 (90%)]\tLoss: 0.223240\n",
      "Train Epoch: 2 [54400/60000 (91%)]\tLoss: 0.217013\n",
      "Train Epoch: 2 [55040/60000 (92%)]\tLoss: 0.196438\n",
      "Train Epoch: 2 [55680/60000 (93%)]\tLoss: 0.164736\n",
      "Train Epoch: 2 [56320/60000 (94%)]\tLoss: 0.467900\n",
      "Train Epoch: 2 [56960/60000 (95%)]\tLoss: 0.294949\n",
      "Train Epoch: 2 [57600/60000 (96%)]\tLoss: 0.266718\n",
      "Train Epoch: 2 [58240/60000 (97%)]\tLoss: 0.302994\n",
      "Train Epoch: 2 [58880/60000 (98%)]\tLoss: 0.215223\n",
      "Train Epoch: 2 [59520/60000 (99%)]\tLoss: 0.324002\n",
      "\n",
      "Test set: Avg. loss: 0.0858, Accuracy: 9722/10000 (97%)\n",
      "\n",
      "Train Epoch: 3 [0/60000 (0%)]\tLoss: 0.192313\n",
      "Train Epoch: 3 [640/60000 (1%)]\tLoss: 0.228761\n",
      "Train Epoch: 3 [1280/60000 (2%)]\tLoss: 0.402253\n",
      "Train Epoch: 3 [1920/60000 (3%)]\tLoss: 0.354092\n",
      "Train Epoch: 3 [2560/60000 (4%)]\tLoss: 0.368897\n",
      "Train Epoch: 3 [3200/60000 (5%)]\tLoss: 0.275588\n",
      "Train Epoch: 3 [3840/60000 (6%)]\tLoss: 0.499272\n",
      "Train Epoch: 3 [4480/60000 (7%)]\tLoss: 0.100746\n",
      "Train Epoch: 3 [5120/60000 (9%)]\tLoss: 0.348948\n",
      "Train Epoch: 3 [5760/60000 (10%)]\tLoss: 0.211718\n",
      "Train Epoch: 3 [6400/60000 (11%)]\tLoss: 0.167414\n",
      "Train Epoch: 3 [7040/60000 (12%)]\tLoss: 0.146742\n",
      "Train Epoch: 3 [7680/60000 (13%)]\tLoss: 0.116400\n",
      "Train Epoch: 3 [8320/60000 (14%)]\tLoss: 0.461632\n",
      "Train Epoch: 3 [8960/60000 (15%)]\tLoss: 0.139278\n",
      "Train Epoch: 3 [9600/60000 (16%)]\tLoss: 0.340544\n",
      "Train Epoch: 3 [10240/60000 (17%)]\tLoss: 0.122971\n",
      "Train Epoch: 3 [10880/60000 (18%)]\tLoss: 0.330575\n",
      "Train Epoch: 3 [11520/60000 (19%)]\tLoss: 0.147734\n",
      "Train Epoch: 3 [12160/60000 (20%)]\tLoss: 0.128357\n",
      "Train Epoch: 3 [12800/60000 (21%)]\tLoss: 0.203980\n",
      "Train Epoch: 3 [13440/60000 (22%)]\tLoss: 0.226776\n",
      "Train Epoch: 3 [14080/60000 (23%)]\tLoss: 0.299282\n",
      "Train Epoch: 3 [14720/60000 (25%)]\tLoss: 0.380748\n",
      "Train Epoch: 3 [15360/60000 (26%)]\tLoss: 0.380338\n",
      "Train Epoch: 3 [16000/60000 (27%)]\tLoss: 0.235282\n",
      "Train Epoch: 3 [16640/60000 (28%)]\tLoss: 0.525389\n",
      "Train Epoch: 3 [17280/60000 (29%)]\tLoss: 0.371478\n",
      "Train Epoch: 3 [17920/60000 (30%)]\tLoss: 0.299204\n",
      "Train Epoch: 3 [18560/60000 (31%)]\tLoss: 0.263515\n",
      "Train Epoch: 3 [19200/60000 (32%)]\tLoss: 0.145555\n",
      "Train Epoch: 3 [19840/60000 (33%)]\tLoss: 0.320821\n",
      "Train Epoch: 3 [20480/60000 (34%)]\tLoss: 0.395205\n",
      "Train Epoch: 3 [21120/60000 (35%)]\tLoss: 0.200331\n",
      "Train Epoch: 3 [21760/60000 (36%)]\tLoss: 0.167605\n",
      "Train Epoch: 3 [22400/60000 (37%)]\tLoss: 0.212708\n",
      "Train Epoch: 3 [23040/60000 (38%)]\tLoss: 0.166377\n",
      "Train Epoch: 3 [23680/60000 (39%)]\tLoss: 0.221398\n",
      "Train Epoch: 3 [24320/60000 (41%)]\tLoss: 0.185355\n",
      "Train Epoch: 3 [24960/60000 (42%)]\tLoss: 0.281094\n",
      "Train Epoch: 3 [25600/60000 (43%)]\tLoss: 0.183429\n",
      "Train Epoch: 3 [26240/60000 (44%)]\tLoss: 0.286874\n",
      "Train Epoch: 3 [26880/60000 (45%)]\tLoss: 0.121803\n",
      "Train Epoch: 3 [27520/60000 (46%)]\tLoss: 0.130562\n",
      "Train Epoch: 3 [28160/60000 (47%)]\tLoss: 0.215972\n",
      "Train Epoch: 3 [28800/60000 (48%)]\tLoss: 0.344056\n",
      "Train Epoch: 3 [29440/60000 (49%)]\tLoss: 0.261911\n",
      "Train Epoch: 3 [30080/60000 (50%)]\tLoss: 0.306588\n",
      "Train Epoch: 3 [30720/60000 (51%)]\tLoss: 0.203980\n",
      "Train Epoch: 3 [31360/60000 (52%)]\tLoss: 0.101256\n",
      "Train Epoch: 3 [32000/60000 (53%)]\tLoss: 0.339472\n",
      "Train Epoch: 3 [32640/60000 (54%)]\tLoss: 0.241901\n",
      "Train Epoch: 3 [33280/60000 (55%)]\tLoss: 0.269581\n",
      "Train Epoch: 3 [33920/60000 (57%)]\tLoss: 0.174264\n",
      "Train Epoch: 3 [34560/60000 (58%)]\tLoss: 0.142515\n",
      "Train Epoch: 3 [35200/60000 (59%)]\tLoss: 0.211543\n",
      "Train Epoch: 3 [35840/60000 (60%)]\tLoss: 0.285984\n",
      "Train Epoch: 3 [36480/60000 (61%)]\tLoss: 0.405288\n",
      "Train Epoch: 3 [37120/60000 (62%)]\tLoss: 0.173448\n",
      "Train Epoch: 3 [37760/60000 (63%)]\tLoss: 0.325701\n",
      "Train Epoch: 3 [38400/60000 (64%)]\tLoss: 0.180425\n",
      "Train Epoch: 3 [39040/60000 (65%)]\tLoss: 0.109908\n",
      "Train Epoch: 3 [39680/60000 (66%)]\tLoss: 0.189026\n",
      "Train Epoch: 3 [40320/60000 (67%)]\tLoss: 0.281017\n",
      "Train Epoch: 3 [40960/60000 (68%)]\tLoss: 0.161191\n",
      "Train Epoch: 3 [41600/60000 (69%)]\tLoss: 0.297610\n",
      "Train Epoch: 3 [42240/60000 (70%)]\tLoss: 0.141164\n",
      "Train Epoch: 3 [42880/60000 (71%)]\tLoss: 0.221300\n",
      "Train Epoch: 3 [43520/60000 (72%)]\tLoss: 0.197125\n",
      "Train Epoch: 3 [44160/60000 (74%)]\tLoss: 0.195724\n",
      "Train Epoch: 3 [44800/60000 (75%)]\tLoss: 0.226855\n",
      "Train Epoch: 3 [45440/60000 (76%)]\tLoss: 0.220960\n",
      "Train Epoch: 3 [46080/60000 (77%)]\tLoss: 0.380964\n",
      "Train Epoch: 3 [46720/60000 (78%)]\tLoss: 0.211891\n",
      "Train Epoch: 3 [47360/60000 (79%)]\tLoss: 0.113583\n",
      "Train Epoch: 3 [48000/60000 (80%)]\tLoss: 0.124657\n",
      "Train Epoch: 3 [48640/60000 (81%)]\tLoss: 0.607412\n",
      "Train Epoch: 3 [49280/60000 (82%)]\tLoss: 0.201202\n",
      "Train Epoch: 3 [49920/60000 (83%)]\tLoss: 0.337425\n",
      "Train Epoch: 3 [50560/60000 (84%)]\tLoss: 0.144224\n",
      "Train Epoch: 3 [51200/60000 (85%)]\tLoss: 0.319423\n",
      "Train Epoch: 3 [51840/60000 (86%)]\tLoss: 0.171204\n",
      "Train Epoch: 3 [52480/60000 (87%)]\tLoss: 0.111527\n",
      "Train Epoch: 3 [53120/60000 (88%)]\tLoss: 0.240687\n",
      "Train Epoch: 3 [53760/60000 (90%)]\tLoss: 0.096819\n",
      "Train Epoch: 3 [54400/60000 (91%)]\tLoss: 0.217300\n",
      "Train Epoch: 3 [55040/60000 (92%)]\tLoss: 0.229351\n",
      "Train Epoch: 3 [55680/60000 (93%)]\tLoss: 0.174251\n",
      "Train Epoch: 3 [56320/60000 (94%)]\tLoss: 0.228719\n",
      "Train Epoch: 3 [56960/60000 (95%)]\tLoss: 0.197177\n",
      "Train Epoch: 3 [57600/60000 (96%)]\tLoss: 0.216933\n",
      "Train Epoch: 3 [58240/60000 (97%)]\tLoss: 0.174864\n",
      "Train Epoch: 3 [58880/60000 (98%)]\tLoss: 0.358212\n",
      "Train Epoch: 3 [59520/60000 (99%)]\tLoss: 0.323420\n",
      "\n",
      "Test set: Avg. loss: 0.0731, Accuracy: 9772/10000 (98%)\n",
      "\n"
     ]
    }
   ],
   "source": [
    "test()\n",
    "for epoch in range(1, numEpochs + 1):\n",
    "    train(epoch)\n",
    "    test()"
   ],
   "metadata": {
    "collapsed": false
   }
  },
  {
   "cell_type": "code",
   "execution_count": 57,
   "outputs": [
    {
     "name": "stdout",
     "output_type": "stream",
     "text": [
      "test_counter= [0, 60000, 120000, 180000]\n",
      "test_losses= [2.3081374122619627, 0.1564507336437702, 0.16121409718990326, 0.10450942968130111, 0.08580890339612961, 0.07309516233801842]\n"
     ]
    },
    {
     "name": "stderr",
     "output_type": "stream",
     "text": [
      "C:\\Users\\yatin\\AppData\\Local\\Temp\\ipykernel_20856\\3525574838.py:10: UserWarning: Matplotlib is currently using module://matplotlib_inline.backend_inline, which is a non-GUI backend, so cannot show the figure.\n",
      "  fig.show()\n"
     ]
    },
    {
     "data": {
      "text/plain": "<Figure size 640x480 with 1 Axes>",
      "image/png": "[encoded data removed]"
     },
     "metadata": {},
     "output_type": "display_data"
    }
   ],
   "source": [
    "figure = plt.figure()\n",
    "\n",
    "print(\"test_counter=\",test_counter)\n",
    "print(\"test_losses=\",test_losses)\n",
    "plt.plot(train_counter,train_losses,color = 'turquoise')\n",
    "plt.scatter(test_counter,test_losses[0:4],color = 'red')\n",
    "plt.xlabel(\"Number of training iterations\")\n",
    "plt.ylabel(\"Negative log likelihood loss\")\n",
    "plt.legend(['Train loss','Test Loss'], loc =\"upper right\")\n",
    "fig.show()"
   ],
   "metadata": {
    "collapsed": false
   }
  },
  {
   "cell_type": "code",
   "execution_count": null,
   "outputs": [],
   "source": [],
   "metadata": {
    "collapsed": false
   }
  }
 ],
 "metadata": {
  "kernelspec": {
   "display_name": "Python 3",
   "language": "python",
   "name": "python3"
  },
  "language_info": {
   "codemirror_mode": {
    "name": "ipython",
    "version": 2
   },
   "file_extension": ".py",
   "mimetype": "text/x-python",
   "name": "python",
   "nbconvert_exporter": "python",
   "pygments_lexer": "ipython2",
   "version": "2.7.6"
  }
 },
 "nbformat": 4,
 "nbformat_minor": 0
}
